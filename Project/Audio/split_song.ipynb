{
 "cells": [
  {
   "cell_type": "code",
   "execution_count": 1,
   "metadata": {},
   "outputs": [
    {
     "name": "stdout",
     "output_type": "stream",
     "text": [
      "Requirement already satisfied: gitpython in c:\\users\\ananya\\appdata\\local\\programs\\python\\python311\\lib\\site-packages (3.1.43)\n",
      "Requirement already satisfied: gitdb<5,>=4.0.1 in c:\\users\\ananya\\appdata\\local\\programs\\python\\python311\\lib\\site-packages (from gitpython) (4.0.11)\n",
      "Requirement already satisfied: smmap<6,>=3.0.1 in c:\\users\\ananya\\appdata\\local\\programs\\python\\python311\\lib\\site-packages (from gitdb<5,>=4.0.1->gitpython) (5.0.1)\n"
     ]
    }
   ],
   "source": [
    "!pip install gitpython\n"
   ]
  },
  {
   "cell_type": "code",
   "execution_count": 9,
   "metadata": {},
   "outputs": [
    {
     "name": "stdout",
     "output_type": "stream",
     "text": [
      "Requirement already satisfied: pip in c:\\users\\ananya\\appdata\\local\\programs\\python\\python311\\lib\\site-packages (24.0)\n",
      "Requirement already satisfied: setuptools in c:\\users\\ananya\\appdata\\local\\programs\\python\\python311\\lib\\site-packages (70.1.0)\n",
      "Requirement already satisfied: wheel in c:\\users\\ananya\\appdata\\local\\programs\\python\\python311\\lib\\site-packages (0.43.0)\n",
      "Collecting numpy==1.26.4\n",
      "  Using cached numpy-1.26.4-cp311-cp311-win_amd64.whl.metadata (61 kB)\n",
      "Using cached numpy-1.26.4-cp311-cp311-win_amd64.whl (15.8 MB)\n",
      "Installing collected packages: numpy\n",
      "  Attempting uninstall: numpy\n",
      "    Found existing installation: numpy 1.23.2\n",
      "    Uninstalling numpy-1.23.2:\n",
      "      Successfully uninstalled numpy-1.23.2\n",
      "Successfully installed numpy-1.26.4\n"
     ]
    }
   ],
   "source": [
    "!pip install --upgrade pip setuptools wheel\n",
    "!pip install numpy==1.26.4 --only-binary :all:\n",
    "\n",
    "\n"
   ]
  },
  {
   "cell_type": "code",
   "execution_count": 11,
   "metadata": {},
   "outputs": [
    {
     "name": "stdout",
     "output_type": "stream",
     "text": [
      "Collecting demucs\n",
      "  Downloading demucs-4.0.1.tar.gz (1.2 MB)\n",
      "     ---------------------------------------- 0.0/1.2 MB ? eta -:--:--\n",
      "     -- ------------------------------------- 0.1/1.2 MB 1.6 MB/s eta 0:00:01\n",
      "     ----------- ---------------------------- 0.3/1.2 MB 4.2 MB/s eta 0:00:01\n",
      "     --------------------- ------------------ 0.6/1.2 MB 5.8 MB/s eta 0:00:01\n",
      "     ---------------------------------------- 1.2/1.2 MB 7.0 MB/s eta 0:00:00\n",
      "  Preparing metadata (setup.py): started\n",
      "  Preparing metadata (setup.py): finished with status 'done'\n",
      "Collecting dora-search (from demucs)\n",
      "  Downloading dora_search-0.1.12.tar.gz (87 kB)\n",
      "     ---------------------------------------- 0.0/87.1 kB ? eta -:--:--\n",
      "     ---------------------------------------- 87.1/87.1 kB 5.1 MB/s eta 0:00:00\n",
      "  Installing build dependencies: started\n",
      "  Installing build dependencies: finished with status 'done'\n",
      "  Getting requirements to build wheel: started\n",
      "  Getting requirements to build wheel: finished with status 'done'\n",
      "  Preparing metadata (pyproject.toml): started\n",
      "  Preparing metadata (pyproject.toml): finished with status 'done'\n",
      "Collecting einops (from demucs)\n",
      "  Downloading einops-0.8.0-py3-none-any.whl.metadata (12 kB)\n",
      "Collecting julius>=0.2.3 (from demucs)\n",
      "  Downloading julius-0.2.7.tar.gz (59 kB)\n",
      "     ---------------------------------------- 0.0/59.6 kB ? eta -:--:--\n",
      "     ---------------------------------------- 59.6/59.6 kB 3.1 MB/s eta 0:00:00\n",
      "  Preparing metadata (setup.py): started\n",
      "  Preparing metadata (setup.py): finished with status 'done'\n",
      "Collecting lameenc>=1.2 (from demucs)\n",
      "  Downloading lameenc-1.7.0-cp311-cp311-win_amd64.whl.metadata (825 bytes)\n",
      "Collecting openunmix (from demucs)\n",
      "  Downloading openunmix-1.3.0-py3-none-any.whl.metadata (17 kB)\n",
      "Requirement already satisfied: pyyaml in c:\\users\\ananya\\appdata\\local\\programs\\python\\python311\\lib\\site-packages (from demucs) (6.0.1)\n",
      "Requirement already satisfied: torch>=1.8.1 in c:\\users\\ananya\\appdata\\local\\programs\\python\\python311\\lib\\site-packages (from demucs) (2.1.1+cu121)\n",
      "Requirement already satisfied: torchaudio>=0.8 in c:\\users\\ananya\\appdata\\local\\programs\\python\\python311\\lib\\site-packages (from demucs) (2.1.1+cu121)\n",
      "Requirement already satisfied: tqdm in c:\\users\\ananya\\appdata\\local\\programs\\python\\python311\\lib\\site-packages (from demucs) (4.66.2)\n",
      "Requirement already satisfied: filelock in c:\\users\\ananya\\appdata\\local\\programs\\python\\python311\\lib\\site-packages (from torch>=1.8.1->demucs) (3.9.0)\n",
      "Requirement already satisfied: typing-extensions in c:\\users\\ananya\\appdata\\local\\programs\\python\\python311\\lib\\site-packages (from torch>=1.8.1->demucs) (4.10.0)\n",
      "Requirement already satisfied: sympy in c:\\users\\ananya\\appdata\\local\\programs\\python\\python311\\lib\\site-packages (from torch>=1.8.1->demucs) (1.12)\n",
      "Requirement already satisfied: networkx in c:\\users\\ananya\\appdata\\local\\programs\\python\\python311\\lib\\site-packages (from torch>=1.8.1->demucs) (3.0)\n",
      "Requirement already satisfied: jinja2 in c:\\users\\ananya\\appdata\\local\\programs\\python\\python311\\lib\\site-packages (from torch>=1.8.1->demucs) (3.1.2)\n",
      "Requirement already satisfied: fsspec in c:\\users\\ananya\\appdata\\local\\programs\\python\\python311\\lib\\site-packages (from torch>=1.8.1->demucs) (2024.6.0)\n",
      "Collecting omegaconf (from dora-search->demucs)\n",
      "  Downloading omegaconf-2.3.0-py3-none-any.whl.metadata (3.9 kB)\n",
      "Collecting retrying (from dora-search->demucs)\n",
      "  Downloading retrying-1.3.4-py3-none-any.whl.metadata (6.9 kB)\n",
      "Collecting submitit (from dora-search->demucs)\n",
      "  Downloading submitit-1.5.1-py3-none-any.whl.metadata (8.0 kB)\n",
      "Collecting treetable (from dora-search->demucs)\n",
      "  Downloading treetable-0.2.5.tar.gz (10 kB)\n",
      "  Preparing metadata (setup.py): started\n",
      "  Preparing metadata (setup.py): finished with status 'done'\n",
      "Requirement already satisfied: numpy in c:\\users\\ananya\\appdata\\local\\programs\\python\\python311\\lib\\site-packages (from openunmix->demucs) (1.26.4)\n",
      "Requirement already satisfied: colorama in c:\\users\\ananya\\appdata\\roaming\\python\\python311\\site-packages (from tqdm->demucs) (0.4.6)\n",
      "Requirement already satisfied: MarkupSafe>=2.0 in c:\\users\\ananya\\appdata\\local\\programs\\python\\python311\\lib\\site-packages (from jinja2->torch>=1.8.1->demucs) (2.1.3)\n",
      "Collecting antlr4-python3-runtime==4.9.* (from omegaconf->dora-search->demucs)\n",
      "  Downloading antlr4-python3-runtime-4.9.3.tar.gz (117 kB)\n",
      "     ---------------------------------------- 0.0/117.0 kB ? eta -:--:--\n",
      "     -------------------------------------- 117.0/117.0 kB 6.7 MB/s eta 0:00:00\n",
      "  Preparing metadata (setup.py): started\n",
      "  Preparing metadata (setup.py): finished with status 'done'\n",
      "Requirement already satisfied: six>=1.7.0 in c:\\users\\ananya\\appdata\\roaming\\python\\python311\\site-packages (from retrying->dora-search->demucs) (1.16.0)\n",
      "Requirement already satisfied: cloudpickle>=1.2.1 in c:\\users\\ananya\\appdata\\local\\programs\\python\\python311\\lib\\site-packages (from submitit->dora-search->demucs) (2.2.1)\n",
      "Requirement already satisfied: mpmath>=0.19 in c:\\users\\ananya\\appdata\\local\\programs\\python\\python311\\lib\\site-packages (from sympy->torch>=1.8.1->demucs) (1.3.0)\n",
      "Downloading lameenc-1.7.0-cp311-cp311-win_amd64.whl (148 kB)\n",
      "   ---------------------------------------- 0.0/148.6 kB ? eta -:--:--\n",
      "   ---------------------------------------- 148.6/148.6 kB 9.2 MB/s eta 0:00:00\n",
      "Downloading einops-0.8.0-py3-none-any.whl (43 kB)\n",
      "   ---------------------------------------- 0.0/43.2 kB ? eta -:--:--\n",
      "   ---------------------------------------- 43.2/43.2 kB 1.0 MB/s eta 0:00:00\n",
      "Downloading openunmix-1.3.0-py3-none-any.whl (40 kB)\n",
      "   ---------------------------------------- 0.0/40.0 kB ? eta -:--:--\n",
      "   ---------------------------------------- 40.0/40.0 kB 1.9 MB/s eta 0:00:00\n",
      "Downloading omegaconf-2.3.0-py3-none-any.whl (79 kB)\n",
      "   ---------------------------------------- 0.0/79.5 kB ? eta -:--:--\n",
      "   ---------------------------------------- 79.5/79.5 kB 4.6 MB/s eta 0:00:00\n",
      "Downloading retrying-1.3.4-py3-none-any.whl (11 kB)\n",
      "Downloading submitit-1.5.1-py3-none-any.whl (74 kB)\n",
      "   ---------------------------------------- 0.0/74.7 kB ? eta -:--:--\n",
      "   ---------------------------------------- 74.7/74.7 kB 4.0 MB/s eta 0:00:00\n",
      "Building wheels for collected packages: demucs, julius, dora-search, antlr4-python3-runtime, treetable\n",
      "  Building wheel for demucs (setup.py): started\n",
      "  Building wheel for demucs (setup.py): finished with status 'done'\n",
      "  Created wheel for demucs: filename=demucs-4.0.1-py3-none-any.whl size=78456 sha256=9a05290cc486be63d93cc53933cc2d097e81407d8769babf1fbfba38c538c5b6\n",
      "  Stored in directory: c:\\users\\ananya\\appdata\\local\\pip\\cache\\wheels\\bb\\06\\a3\\83489d50c9f015fa981a2a7bb08fcede75120a0de56775353f\n",
      "  Building wheel for julius (setup.py): started\n",
      "  Building wheel for julius (setup.py): finished with status 'done'\n",
      "  Created wheel for julius: filename=julius-0.2.7-py3-none-any.whl size=21918 sha256=d132763e3f14c721e847c6e65c745aff3b967b81f8c3a5636cadacff165980fb\n",
      "  Stored in directory: c:\\users\\ananya\\appdata\\local\\pip\\cache\\wheels\\16\\15\\d4\\edd724cefe78050a6ba3344b8b0c6672db829a799dbb9f81ff\n",
      "  Building wheel for dora-search (pyproject.toml): started\n",
      "  Building wheel for dora-search (pyproject.toml): finished with status 'done'\n",
      "  Created wheel for dora-search: filename=dora_search-0.1.12-py3-none-any.whl size=75229 sha256=abac32648e074029c354f30616a21358667db3ad436df37bfa5f54c638113fe6\n",
      "  Stored in directory: c:\\users\\ananya\\appdata\\local\\pip\\cache\\wheels\\e3\\f3\\a9\\2fd1ebbd64c4b2a1e53c81bf25282567a80802ceedfedcab4a\n",
      "  Building wheel for antlr4-python3-runtime (setup.py): started\n",
      "  Building wheel for antlr4-python3-runtime (setup.py): finished with status 'done'\n",
      "  Created wheel for antlr4-python3-runtime: filename=antlr4_python3_runtime-4.9.3-py3-none-any.whl size=144577 sha256=bc29c83787159e0b5fbcd428754fdb67da7fd5476bd4d5ff8316e4dbb2801e5e\n",
      "  Stored in directory: c:\\users\\ananya\\appdata\\local\\pip\\cache\\wheels\\1a\\97\\32\\461f837398029ad76911109f07047fde1d7b661a147c7c56d1\n",
      "  Building wheel for treetable (setup.py): started\n",
      "  Building wheel for treetable (setup.py): finished with status 'done'\n",
      "  Created wheel for treetable: filename=treetable-0.2.5-py3-none-any.whl size=7370 sha256=69b1bdc2b960825939583d12089d35dee164c7204fed063d371c86c0b3f0b087\n",
      "  Stored in directory: c:\\users\\ananya\\appdata\\local\\pip\\cache\\wheels\\6c\\c9\\6a\\3ee58e3f4ed63e61de2a515cdb75438521f0372a1f0086be79\n",
      "Successfully built demucs julius dora-search antlr4-python3-runtime treetable\n",
      "Installing collected packages: lameenc, antlr4-python3-runtime, treetable, submitit, retrying, omegaconf, einops, julius, dora-search, openunmix, demucs\n",
      "Successfully installed antlr4-python3-runtime-4.9.3 demucs-4.0.1 dora-search-0.1.12 einops-0.8.0 julius-0.2.7 lameenc-1.7.0 omegaconf-2.3.0 openunmix-1.3.0 retrying-1.3.4 submitit-1.5.1 treetable-0.2.5\n"
     ]
    }
   ],
   "source": [
    "!pip install demucs\n",
    "\n"
   ]
  },
  {
   "cell_type": "code",
   "execution_count": null,
   "metadata": {},
   "outputs": [],
   "source": []
  },
  {
   "cell_type": "code",
   "execution_count": null,
   "metadata": {},
   "outputs": [],
   "source": []
  },
  {
   "cell_type": "code",
   "execution_count": null,
   "metadata": {},
   "outputs": [],
   "source": []
  },
  {
   "cell_type": "code",
   "execution_count": null,
   "metadata": {},
   "outputs": [],
   "source": []
  },
  {
   "cell_type": "code",
   "execution_count": null,
   "metadata": {},
   "outputs": [],
   "source": []
  },
  {
   "cell_type": "code",
   "execution_count": null,
   "metadata": {},
   "outputs": [],
   "source": [
    "import os\n",
    "import shutil\n",
    "from git import Repo\n",
    "from spleeter.separator import Separator\n",
    "import argparse\n",
    "\n",
    "def split_song(input_file, output_folder):\n",
    "    \"\"\"Split a song into vocals and instruments using Spleeter, save with custom names.\"\"\"\n",
    "    separator = Separator('spleeter:2stems')\n",
    "    base_name = os.path.splitext(os.path.basename(input_file))[0]\n",
    "    temp_output_path = os.path.join(output_folder, \"temp_\" + base_name)\n",
    "    if not os.path.exists(temp_output_path):\n",
    "        os.makedirs(temp_output_path)\n",
    "    separator.separate_to_file(input_file, temp_output_path)\n",
    "    vocals_path = os.path.join(output_folder, f\"{base_name}_vocals.wav\")\n",
    "    instruments_path = os.path.join(output_folder, f\"{base_name}_instruments.wav\")\n",
    "    shutil.move(os.path.join(temp_output_path, f\"{base_name}/vocals.wav\"), vocals_path)\n",
    "    shutil.move(os.path.join(temp_output_path, f\"{base_name}/accompaniment.wav\"), instruments_path)\n",
    "    shutil.rmtree(temp_output_path)\n",
    "    print(f\"Tracks for {base_name} saved as {vocals_path} and {instruments_path}\")\n",
    "\n",
    "def process_repository(repo_url, local_path, output_folder):\n",
    "    \"\"\"Clone a GitHub repository, process each song, and output to a specific folder.\"\"\"\n",
    "    if not os.path.exists(local_path):\n",
    "        Repo.clone_from(repo_url, local_path)\n",
    "        print(f\"Repository cloned at {local_path}\")\n",
    "    else:\n",
    "        print(f\"Repository already exists at {local_path}\")\n",
    "\n",
    "    for file_name in os.listdir(local_path):\n",
    "        if file_name.lower().endswith(('.mp3', '.wav')):\n",
    "            file_path = os.path.join(local_path, file_name)\n",
    "            split_song(file_path, output_folder)\n",
    "\n",
    "if __name__ == \"__main__\":\n",
    "    parser = argparse.ArgumentParser(description=\"Process all songs in a GitHub repository.\")\n",
    "    parser.add_argument(\"repo_url\", type=str, help=\"URL of the GitHub repository containing the audio files.\")\n",
    "    parser.add_argument(\"local_path\", type=str, help=\"Local path to clone the repository.\")\n",
    "    parser.add_argument(\"output_folder\", type=str, help=\"Folder to save the output tracks.\")\n",
    "\n",
    "    args = parser.parse_args()\n",
    "\n",
    "    # Ensure the output directory exists\n",
    "    if not os.path.exists(args.output_folder):\n",
    "        os.makedirs(args.output_folder)\n",
    "\n",
    "    # Process the repository\n",
    "    process_repository(args.repo_url, args.local_path, args.output_folder)\n"
   ]
  }
 ],
 "metadata": {
  "kernelspec": {
   "display_name": "Python 3",
   "language": "python",
   "name": "python3"
  },
  "language_info": {
   "codemirror_mode": {
    "name": "ipython",
    "version": 3
   },
   "file_extension": ".py",
   "mimetype": "text/x-python",
   "name": "python",
   "nbconvert_exporter": "python",
   "pygments_lexer": "ipython3",
   "version": "3.11.0"
  }
 },
 "nbformat": 4,
 "nbformat_minor": 2
}
