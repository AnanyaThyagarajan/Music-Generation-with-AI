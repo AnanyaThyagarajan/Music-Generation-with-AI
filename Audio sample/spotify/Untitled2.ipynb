{
  "cells": [
    {
      "cell_type": "code",
      "execution_count": 2,
      "metadata": {},
      "outputs": [
        {
          "name": "stdout",
          "output_type": "stream",
          "text": [
            "Requirement already satisfied: spotipy in c:\\users\\ananya\\appdata\\local\\programs\\python\\python311\\lib\\site-packages (2.23.0)\n",
            "Requirement already satisfied: redis>=3.5.3 in c:\\users\\ananya\\appdata\\local\\programs\\python\\python311\\lib\\site-packages (from spotipy) (5.0.2)\n",
            "Requirement already satisfied: requests>=2.25.0 in c:\\users\\ananya\\appdata\\local\\programs\\python\\python311\\lib\\site-packages (from spotipy) (2.28.1)\n",
            "Requirement already satisfied: six>=1.15.0 in c:\\users\\ananya\\appdata\\roaming\\python\\python311\\site-packages (from spotipy) (1.16.0)\n",
            "Requirement already satisfied: urllib3>=1.26.0 in c:\\users\\ananya\\appdata\\local\\programs\\python\\python311\\lib\\site-packages (from spotipy) (1.26.13)\n",
            "Requirement already satisfied: async-timeout>=4.0.3 in c:\\users\\ananya\\appdata\\local\\programs\\python\\python311\\lib\\site-packages (from redis>=3.5.3->spotipy) (4.0.3)\n",
            "Requirement already satisfied: charset-normalizer<3,>=2 in c:\\users\\ananya\\appdata\\local\\programs\\python\\python311\\lib\\site-packages (from requests>=2.25.0->spotipy) (2.1.1)\n",
            "Requirement already satisfied: idna<4,>=2.5 in c:\\users\\ananya\\appdata\\local\\programs\\python\\python311\\lib\\site-packages (from requests>=2.25.0->spotipy) (3.4)\n",
            "Requirement already satisfied: certifi>=2017.4.17 in c:\\users\\ananya\\appdata\\local\\programs\\python\\python311\\lib\\site-packages (from requests>=2.25.0->spotipy) (2022.12.7)\n"
          ]
        },
        {
          "name": "stderr",
          "output_type": "stream",
          "text": [
            "\n",
            "[notice] A new release of pip is available: 23.3.1 -> 24.0\n",
            "[notice] To update, run: python.exe -m pip install --upgrade pip\n"
          ]
        }
      ],
      "source": [
        "!pip install spotipy"
      ]
    },
    {
      "cell_type": "code",
      "execution_count": 3,
      "metadata": {
        "id": "0Xii8eEElq5T"
      },
      "outputs": [
        {
          "name": "stdout",
          "output_type": "stream",
          "text": [
            "Spotipy has been successfully installed!\n"
          ]
        }
      ],
      "source": [
        "import spotipy\n",
        "print(\"Spotipy has been successfully installed!\")"
      ]
    },
    {
      "cell_type": "code",
      "execution_count": 4,
      "metadata": {},
      "outputs": [],
      "source": [
        "import spotipy\n",
        "from spotipy.oauth2 import SpotifyClientCredentials"
      ]
    },
    {
      "cell_type": "code",
      "execution_count": 10,
      "metadata": {},
      "outputs": [],
      "source": [
        "client_id = \"12432ee31f704732bf6afde68e88190f\"\n",
        "client_secret = \"134d08646a9441d38666fd9df056201a\"\n",
        "client_credentials_manager = SpotifyClientCredentials(client_id=client_id, client_secret=client_secret)\n",
        "spot = spotipy.Spotify(client_credentials_manager=client_credentials_manager) "
      ]
    },
    {
      "cell_type": "code",
      "execution_count": 12,
      "metadata": {},
      "outputs": [
        {
          "data": {
            "text/plain": [
              "[{'external_urls': {'spotify': 'https://open.spotify.com/artist/4AK6F7OLvEQ5QYCBNiQWHq'},\n",
              "  'href': 'https://api.spotify.com/v1/artists/4AK6F7OLvEQ5QYCBNiQWHq',\n",
              "  'id': '4AK6F7OLvEQ5QYCBNiQWHq',\n",
              "  'name': 'One Direction',\n",
              "  'type': 'artist',\n",
              "  'uri': 'spotify:artist:4AK6F7OLvEQ5QYCBNiQWHq'}]"
            ]
          },
          "execution_count": 12,
          "metadata": {},
          "output_type": "execute_result"
        }
      ],
      "source": [
        "#searching for a particular artist name\n",
        "\n",
        "artist_name = [\"One Direction\"]\n",
        "result = spot.search(artist_name) \n",
        "result['tracks']['items'][1]['artists']"
      ]
    },
    {
      "cell_type": "code",
      "execution_count": 13,
      "metadata": {},
      "outputs": [
        {
          "data": {
            "text/plain": [
              "['spotify:album:1gMxiQQSg5zeu4htBosASY',\n",
              " 'spotify:album:4gCNyS7pidfK3rKWhB3JOY',\n",
              " 'spotify:album:7p1fX8aUySrBdx4WSYspOu',\n",
              " 'spotify:album:2sWX3HYnZjPZ9MrH6MFsBt',\n",
              " 'spotify:album:6cunQQ7YZisYOoiFu2ywIq']"
            ]
          },
          "execution_count": 13,
          "metadata": {},
          "output_type": "execute_result"
        }
      ],
      "source": [
        "# Extract Spotify albums \n",
        "# store Spotify URIs and album names in separate lists for reference\n",
        "\n",
        "#Extract Artist's uri\n",
        "OneD_uris = result['tracks']['items'][0]['artists'][0]['uri']\n",
        "#Pull all of the artist's albums\n",
        "OneD_albums = spot.artist_albums(OneD_uris, album_type='album')\n",
        "#Store artist's albums' names' and uris in separate lists\n",
        "OneD_album_names = []\n",
        "OneD_album_uris = []\n",
        "for i in range(len(OneD_albums['items'])):\n",
        "    OneD_album_names.append(OneD_albums['items'][i]['name'])\n",
        "    OneD_album_uris.append(OneD_albums['items'][i]['uri'])\n",
        "    \n",
        "OneD_album_names\n",
        "OneD_album_uris"
      ]
    },
    {
      "cell_type": "code",
      "execution_count": null,
      "metadata": {},
      "outputs": [],
      "source": [
        "# Extract all the songs from every album\n",
        "\n",
        "#Next would be to loop through each album to extract key album track data.\n",
        "\n",
        "def album_songs(uri):\n",
        "    album = uri \n",
        "    spotify_albums[album] = {}\n",
        "    #Create keys-values of empty lists inside nested dictionary for album\n",
        "    spotify_albums[album]['album'] = [] \n",
        "    spotify_albums[album]['track_number'] = []\n",
        "    spotify_albums[album]['id'] = []\n",
        "    spotify_albums[album]['name'] = []\n",
        "    spotify_albums[album]['uri'] = []\n",
        "    #pull data on album tracks\n",
        "    tracks = sp.album_tracks(album) \n",
        "    for n in range(len(tracks['items'])): \n",
        "        spotify_albums[album]['album'].append(artist_album_names[album_count]) \n",
        "        spotify_albums[album]['track_number'].append(tracks['items'][n]['track_number'])\n",
        "        spotify_albums[album]['id'].append(tracks['items'][n]['id'])\n",
        "        spotify_albums[album]['name'].append(tracks['items'][n]['name'])\n",
        "        spotify_albums[album]['uri'].append(tracks['items'][n]['uri'])"
      ]
    }
  ],
  "metadata": {
    "colab": {
      "provenance": []
    },
    "kernelspec": {
      "display_name": "Python 3",
      "name": "python3"
    },
    "language_info": {
      "codemirror_mode": {
        "name": "ipython",
        "version": 3
      },
      "file_extension": ".py",
      "mimetype": "text/x-python",
      "name": "python",
      "nbconvert_exporter": "python",
      "pygments_lexer": "ipython3",
      "version": "3.11.0"
    }
  },
  "nbformat": 4,
  "nbformat_minor": 0
}
