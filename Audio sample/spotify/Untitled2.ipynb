{
  "cells": [
    {
      "cell_type": "code",
      "execution_count": 2,
      "metadata": {},
      "outputs": [
        {
          "name": "stdout",
          "output_type": "stream",
          "text": [
            "Requirement already satisfied: spotipy in c:\\users\\ananya\\appdata\\local\\programs\\python\\python311\\lib\\site-packages (2.23.0)\n",
            "Requirement already satisfied: redis>=3.5.3 in c:\\users\\ananya\\appdata\\local\\programs\\python\\python311\\lib\\site-packages (from spotipy) (5.0.2)\n",
            "Requirement already satisfied: requests>=2.25.0 in c:\\users\\ananya\\appdata\\local\\programs\\python\\python311\\lib\\site-packages (from spotipy) (2.28.1)\n",
            "Requirement already satisfied: six>=1.15.0 in c:\\users\\ananya\\appdata\\roaming\\python\\python311\\site-packages (from spotipy) (1.16.0)\n",
            "Requirement already satisfied: urllib3>=1.26.0 in c:\\users\\ananya\\appdata\\local\\programs\\python\\python311\\lib\\site-packages (from spotipy) (1.26.13)\n",
            "Requirement already satisfied: async-timeout>=4.0.3 in c:\\users\\ananya\\appdata\\local\\programs\\python\\python311\\lib\\site-packages (from redis>=3.5.3->spotipy) (4.0.3)\n",
            "Requirement already satisfied: charset-normalizer<3,>=2 in c:\\users\\ananya\\appdata\\local\\programs\\python\\python311\\lib\\site-packages (from requests>=2.25.0->spotipy) (2.1.1)\n",
            "Requirement already satisfied: idna<4,>=2.5 in c:\\users\\ananya\\appdata\\local\\programs\\python\\python311\\lib\\site-packages (from requests>=2.25.0->spotipy) (3.4)\n",
            "Requirement already satisfied: certifi>=2017.4.17 in c:\\users\\ananya\\appdata\\local\\programs\\python\\python311\\lib\\site-packages (from requests>=2.25.0->spotipy) (2022.12.7)\n"
          ]
        },
        {
          "name": "stderr",
          "output_type": "stream",
          "text": [
            "\n",
            "[notice] A new release of pip is available: 23.3.1 -> 24.0\n",
            "[notice] To update, run: python.exe -m pip install --upgrade pip\n"
          ]
        }
      ],
      "source": [
        "!pip install spotipy"
      ]
    },
    {
      "cell_type": "code",
      "execution_count": 3,
      "metadata": {
        "id": "0Xii8eEElq5T"
      },
      "outputs": [
        {
          "name": "stdout",
          "output_type": "stream",
          "text": [
            "Spotipy has been successfully installed!\n"
          ]
        }
      ],
      "source": [
        "import spotipy\n",
        "print(\"Spotipy has been successfully installed!\")"
      ]
    },
    {
      "cell_type": "code",
      "execution_count": 4,
      "metadata": {},
      "outputs": [],
      "source": [
        "import spotipy\n",
        "from spotipy.oauth2 import SpotifyClientCredentials"
      ]
    },
    {
      "cell_type": "code",
      "execution_count": 10,
      "metadata": {},
      "outputs": [],
      "source": [
        "client_id = \"12432ee31f704732bf6afde68e88190f\"\n",
        "client_secret = \"134d08646a9441d38666fd9df056201a\"\n",
        "client_credentials_manager = SpotifyClientCredentials(client_id=client_id, client_secret=client_secret)\n",
        "spot = spotipy.Spotify(client_credentials_manager=client_credentials_manager) "
      ]
    },
    {
      "cell_type": "code",
      "execution_count": 12,
      "metadata": {},
      "outputs": [
        {
          "data": {
            "text/plain": [
              "[{'external_urls': {'spotify': 'https://open.spotify.com/artist/4AK6F7OLvEQ5QYCBNiQWHq'},\n",
              "  'href': 'https://api.spotify.com/v1/artists/4AK6F7OLvEQ5QYCBNiQWHq',\n",
              "  'id': '4AK6F7OLvEQ5QYCBNiQWHq',\n",
              "  'name': 'One Direction',\n",
              "  'type': 'artist',\n",
              "  'uri': 'spotify:artist:4AK6F7OLvEQ5QYCBNiQWHq'}]"
            ]
          },
          "execution_count": 12,
          "metadata": {},
          "output_type": "execute_result"
        }
      ],
      "source": [
        "#searching for a particular artist name\n",
        "\n",
        "artist_name = [\"One Direction\"]\n",
        "result = spot.search(artist_name) \n",
        "result['tracks']['items'][1]['artists']"
      ]
    },
    {
      "cell_type": "code",
      "execution_count": 13,
      "metadata": {},
      "outputs": [
        {
          "data": {
            "text/plain": [
              "['spotify:album:1gMxiQQSg5zeu4htBosASY',\n",
              " 'spotify:album:4gCNyS7pidfK3rKWhB3JOY',\n",
              " 'spotify:album:7p1fX8aUySrBdx4WSYspOu',\n",
              " 'spotify:album:2sWX3HYnZjPZ9MrH6MFsBt',\n",
              " 'spotify:album:6cunQQ7YZisYOoiFu2ywIq']"
            ]
          },
          "execution_count": 13,
          "metadata": {},
          "output_type": "execute_result"
        }
      ],
      "source": [
        "# Extract Spotify albums \n",
        "# store Spotify URIs and album names in separate lists for reference\n",
        "\n",
        "#Extract Artist's uri\n",
        "OneD_uris = result['tracks']['items'][0]['artists'][0]['uri']\n",
        "#Pull all of the artist's albums\n",
        "OneD_albums = spot.artist_albums(OneD_uris, album_type='album')\n",
        "#Store artist's albums' names' and uris in separate lists\n",
        "OneD_album_names = []\n",
        "OneD_album_uris = []\n",
        "for i in range(len(OneD_albums['items'])):\n",
        "    OneD_album_names.append(OneD_albums['items'][i]['name'])\n",
        "    OneD_album_uris.append(OneD_albums['items'][i]['uri'])\n",
        "    \n",
        "OneD_album_names\n",
        "OneD_album_uris"
      ]
    },
    {
      "cell_type": "code",
      "execution_count": null,
      "metadata": {},
      "outputs": [],
      "source": [
        "# Extract all the songs from every album\n",
        "\n",
        "#Next would be to loop through each album to extract key album track data.\n",
        "\n",
        "def album_songs(uri):\n",
        "    album = uri \n",
        "    spotify_albums[album] = {}\n",
        "    #Create keys-values of empty lists inside nested dictionary for album\n",
        "    spotify_albums[album]['album'] = [] \n",
        "    spotify_albums[album]['track_number'] = []\n",
        "    spotify_albums[album]['id'] = []\n",
        "    spotify_albums[album]['name'] = []\n",
        "    spotify_albums[album]['uri'] = []\n",
        "    #pull data on album tracks\n",
        "    tracks = sp.album_tracks(album) \n",
        "    for n in range(len(tracks['items'])): \n",
        "        spotify_albums[album]['album'].append(artist_album_names[album_count]) \n",
        "        spotify_albums[album]['track_number'].append(tracks['items'][n]['track_number'])\n",
        "        spotify_albums[album]['id'].append(tracks['items'][n]['id'])\n",
        "        spotify_albums[album]['name'].append(tracks['items'][n]['name'])\n",
        "        spotify_albums[album]['uri'].append(tracks['items'][n]['uri'])"
      ]
    },
    {
      "cell_type": "markdown",
      "metadata": {},
      "source": [
        "Another way\n"
      ]
    },
    {
      "cell_type": "code",
      "execution_count": 1,
      "metadata": {},
      "outputs": [],
      "source": [
        "class GetLyrics_data():\n",
        "    \n",
        "     def __init__(self, spotify_client_id, spotify_client_secret, user_id, playlist_id, genius_key):\n",
        "        self.spotify_client_id = spotify_client_id\n",
        "        self.spotify_client_secret = spotify_client_secret\n",
        "        self.user_id = user_id\n",
        "        self.playlist_id = playlist_id\n",
        "        self.genius_key = genius_key\n",
        "        \n",
        "     def get_playlist_info(self):\n",
        "        token = SpotifyClientCredentials(client_id=self.spotify_client_id, client_secret=self.spotify_client_secret).get_access_token()\n",
        "        sp = spotipy.Spotify(token)\n",
        "        playlist = sp.user_playlist_tracks(self.user_id, self.playlist_id)\n",
        "        self.playlist = playlist\n",
        "        return self.playlist\n",
        "    \n",
        "     def get_track_names(self):\n",
        "        track_names = []\n",
        "        for song in range(len(self.playlist['items'])):\n",
        "            track_names.append(self.playlist['items'][song]['track']['name'])\n",
        "        self.track_names = track_names\n",
        "        return self.track_names\n",
        "    \n",
        "     def get_track_artists(self):\n",
        "        track_artists = []\n",
        "        for song in range(len(self.playlist['items'])):\n",
        "            track_artists.append(self.playlist['items'][song]['track']['artists'][0]['name'])\n",
        "        self.track_artists = track_artists\n",
        "        return self.track_artists\n",
        "        \n",
        "     def request_song_info(self, track_name, track_artist):\n",
        "        self.track_name = track_name\n",
        "        self.track_artist = track_artist\n",
        "        base_url = 'https://api.genius.com'\n",
        "        headers = {'Authorization': 'Bearer ' + self.genius_key}\n",
        "        search_url = base_url + '/search'\n",
        "        data = {'q': track_name + ' ' + track_artist}\n",
        "        response = requests.get(search_url, data=data, headers=headers)\n",
        "        self.response = response\n",
        "        return self.response\n",
        "\n",
        "     def check_hits(self):\n",
        "        json = self.response.json()\n",
        "        remote_song_info = None\n",
        "        for hit in json['response']['hits']:\n",
        "            if self.track_artist.lower() in hit['result']['primary_artist']['name'].lower():\n",
        "                remote_song_info = hit\n",
        "                break\n",
        "        self.remote_song_info = remote_song_info\n",
        "        return self.remote_song_info\n",
        "    \n",
        "     def get_url(self):\n",
        "        song_url = self.remote_song_info['result']['url']\n",
        "        self.song_url = song_url\n",
        "        return self.song_url\n",
        "    \n",
        "     def scrape_lyrics(self):\n",
        "        page = requests.get(self.song_url)\n",
        "        html = BeautifulSoup(page.text, 'html.parser')\n",
        "        lyrics1 = html.find(\"div\", class_=\"lyrics\")\n",
        "        lyrics2 = html.find(\"div\", class_=\"Lyrics__Container-sc-1ynbvzw-2 jgQsqn\")\n",
        "        if lyrics1:\n",
        "            lyrics = lyrics1.get_text()\n",
        "        elif lyrics2:\n",
        "            lyrics = lyrics2.get_text()\n",
        "        elif lyrics1 == lyrics2 == None:\n",
        "            lyrics = None\n",
        "        return lyrics\n",
        "\n",
        "     def get_lyrics(self):\n",
        "        playlist = GetLyrics.get_playlist_info(self)\n",
        "        track_names = GetLyrics.get_track_names(self)\n",
        "        track_artists = GetLyrics.get_track_artists(self)\n",
        "        song_lyrics = []\n",
        "        for i in range(len(self.track_names)):\n",
        "            print(\"\\n\")\n",
        "            print(f\"Working on track {i}.\")\n",
        "            response = GetLyrics.request_song_info(self, self.track_names[i], self.track_artists[i])\n",
        "            remote_song_info = GetLyrics.check_hits(self)\n",
        "            if remote_song_info == None:\n",
        "                lyrics = None\n",
        "                print(f\"Track {i} is not in the Genius database.\")\n",
        "            else:\n",
        "                url = GetLyrics.get_url(self)\n",
        "                lyrics = GetLyrics.scrape_lyrics(self)\n",
        "                if lyrics == None:\n",
        "                    print(f\"Track {i} is not in the Genius database.\")\n",
        "                else:\n",
        "                    print(f\"Retrieved track {i} lyrics!\")\n",
        "            song_lyrics.append(lyrics)\n",
        "        return song_lyrics"
      ]
    },
    {
      "cell_type": "code",
      "execution_count": null,
      "metadata": {},
      "outputs": [],
      "source": []
    },
    {
      "cell_type": "code",
      "execution_count": null,
      "metadata": {},
      "outputs": [],
      "source": []
    },
    {
      "cell_type": "code",
      "execution_count": null,
      "metadata": {},
      "outputs": [],
      "source": []
    },
    {
      "cell_type": "code",
      "execution_count": null,
      "metadata": {},
      "outputs": [],
      "source": []
    },
    {
      "cell_type": "code",
      "execution_count": null,
      "metadata": {},
      "outputs": [],
      "source": []
    }
  ],
  "metadata": {
    "colab": {
      "provenance": []
    },
    "kernelspec": {
      "display_name": "Python 3",
      "name": "python3"
    },
    "language_info": {
      "codemirror_mode": {
        "name": "ipython",
        "version": 3
      },
      "file_extension": ".py",
      "mimetype": "text/x-python",
      "name": "python",
      "nbconvert_exporter": "python",
      "pygments_lexer": "ipython3",
      "version": "3.11.0"
    }
  },
  "nbformat": 4,
  "nbformat_minor": 0
}
